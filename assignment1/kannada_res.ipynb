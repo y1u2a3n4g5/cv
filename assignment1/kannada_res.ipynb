{
 "cells": [
  {
   "cell_type": "markdown",
   "metadata": {},
   "source": [
    "****\n",
    "# Jupyter Notebook 1\n",
    "## This is the overall process for this kannada dateset recognization using resnet 50 based on pytorch cuda\n",
    "#### tips:\n",
    "1. I define all my class in the kannada.py to make the ipynb looks concise\n",
    "****\n",
    "author: Dennis Guo"
   ]
  },
  {
   "cell_type": "markdown",
   "metadata": {},
   "source": [
    "1. clean the storage"
   ]
  },
  {
   "cell_type": "code",
   "execution_count": 1,
   "metadata": {},
   "outputs": [
    {
     "data": {
      "text/plain": [
       "0"
      ]
     },
     "execution_count": 1,
     "metadata": {},
     "output_type": "execute_result"
    }
   ],
   "source": [
    "%reset -f\n",
    "import gc\n",
    "gc.collect()\n",
    "#clean the output"
   ]
  },
  {
   "cell_type": "markdown",
   "metadata": {},
   "source": [
    "2. import basic packages and define the path"
   ]
  },
  {
   "cell_type": "code",
   "execution_count": 2,
   "metadata": {},
   "outputs": [],
   "source": [
    "import kannada_dennis\n",
    "from kannada_dennis import *\n",
    "from init_imports import *"
   ]
  },
  {
   "cell_type": "code",
   "execution_count": 3,
   "metadata": {},
   "outputs": [],
   "source": [
    "rootPath = os.getcwd()\n",
    "dataPath = os.path.join(rootPath,\"data\")\n",
    "modelPath = os.path.join(rootPath,\"model\")\n",
    "if not os.path.exists(dataPath):\n",
    "    os.makedirs(dataPath)\n",
    "if not os.path.exists(modelPath):\n",
    "    os.makedirs(modelPath)"
   ]
  },
  {
   "cell_type": "markdown",
   "metadata": {},
   "source": [
    "3. download the data and unzip"
   ]
  },
  {
   "cell_type": "code",
   "execution_count": 4,
   "metadata": {},
   "outputs": [],
   "source": [
    "!kaggle competitions download -c Kannada-MNIST -p ./data -q"
   ]
  },
  {
   "cell_type": "code",
   "execution_count": 5,
   "metadata": {},
   "outputs": [
    {
     "data": {
      "text/plain": [
       "['Dig-MNIST.csv',\n",
       " 'Kannada-MNIST.zip',\n",
       " 'sample_submission.csv',\n",
       " 'test.csv',\n",
       " 'train.csv']"
      ]
     },
     "execution_count": 5,
     "metadata": {},
     "output_type": "execute_result"
    }
   ],
   "source": [
    "zip_path = 'data/Kannada-MNIST.zip'\n",
    "extract_to_dir = 'data'\n",
    "with zipfile.ZipFile(zip_path, 'r') as zip_ref:\n",
    "    zip_ref.extractall(extract_to_dir)\n",
    "\n",
    "# List files to confirm\n",
    "os.listdir(extract_to_dir)"
   ]
  },
  {
   "cell_type": "markdown",
   "metadata": {},
   "source": [
    "4. train test split"
   ]
  },
  {
   "cell_type": "code",
   "execution_count": 6,
   "metadata": {},
   "outputs": [],
   "source": [
    "seed(42)\n",
    "train = pd.read_csv(os.path.join(dataPath,\"train.csv\"))\n",
    "test = pd.read_csv(os.path.join(dataPath,\"test.csv\"))"
   ]
  },
  {
   "cell_type": "markdown",
   "metadata": {},
   "source": [
    "6. transfer the data into DataLoader"
   ]
  },
  {
   "cell_type": "code",
   "execution_count": 28,
   "metadata": {},
   "outputs": [],
   "source": [
    "train_temp = kannada_data(train, test_size=0.2, datatype=\"train\")\n",
    "val_temp = kannada_data(train, test_size=0.2, datatype=\"val\")\n",
    "test_temp = kannada_data()\n",
    "train_dl = DataLoader(train_temp, batch_size=32)\n",
    "val_dl = DataLoader(val_temp, batch_size=32)\n",
    "test_dl = DataLoader(test, batch_size=32)"
   ]
  },
  {
   "cell_type": "markdown",
   "metadata": {},
   "source": [
    "7. create the res50 model but only for conv1 layer and fc layer"
   ]
  },
  {
   "cell_type": "code",
   "execution_count": 8,
   "metadata": {},
   "outputs": [
    {
     "name": "stdout",
     "output_type": "stream",
     "text": [
      "2048\n"
     ]
    }
   ],
   "source": [
    "# I want to create beautiful resnet class\n",
    "num_classes = len(train.label.unique())\n",
    "# Initialize the model\n",
    "model50 = KannaResNet50(num_classes=num_classes).to(device=device)"
   ]
  },
  {
   "cell_type": "markdown",
   "metadata": {},
   "source": [
    "Define the function for loss and accuracy"
   ]
  },
  {
   "cell_type": "markdown",
   "metadata": {},
   "source": [
    "8. run the train dataloder and use the val dataloader to test"
   ]
  },
  {
   "cell_type": "code",
   "execution_count": 12,
   "metadata": {},
   "outputs": [
    {
     "name": "stderr",
     "output_type": "stream",
     "text": [
      "100%|██████████| 1500/1500 [00:34<00:00, 43.87it/s]s]\n",
      "100%|██████████| 1500/1500 [00:17<00:00, 85.28it/s]\n",
      "100%|██████████| 375/375 [00:04<00:00, 79.90it/s]\n",
      "100%|██████████| 1500/1500 [00:33<00:00, 44.70it/s]56.49s/it]\n",
      "100%|██████████| 1500/1500 [00:18<00:00, 82.62it/s]\n",
      "100%|██████████| 375/375 [00:04<00:00, 89.80it/s]\n",
      "100%|██████████| 1500/1500 [00:32<00:00, 45.75it/s]56.14s/it]\n",
      "100%|██████████| 1500/1500 [00:17<00:00, 85.24it/s]\n",
      "100%|██████████| 375/375 [00:04<00:00, 84.52it/s]\n",
      "100%|██████████| 1500/1500 [00:29<00:00, 50.04it/s]55.55s/it]\n",
      "100%|██████████| 1500/1500 [00:17<00:00, 86.00it/s]\n",
      "100%|██████████| 375/375 [00:04<00:00, 88.13it/s]\n",
      "100%|██████████| 1500/1500 [00:29<00:00, 50.53it/s]54.02s/it]\n",
      "100%|██████████| 1500/1500 [00:18<00:00, 80.46it/s]\n",
      "100%|██████████| 375/375 [00:04<00:00, 82.76it/s]\n",
      "100%|██████████| 1500/1500 [00:32<00:00, 46.76it/s]53.61s/it]\n",
      "100%|██████████| 1500/1500 [00:18<00:00, 81.25it/s]\n",
      "100%|██████████| 375/375 [00:04<00:00, 85.43it/s]\n",
      "100%|██████████| 1500/1500 [00:31<00:00, 47.91it/s]54.06s/it]\n",
      "100%|██████████| 1500/1500 [00:18<00:00, 79.99it/s]\n",
      "100%|██████████| 375/375 [00:04<00:00, 86.84it/s]\n",
      "100%|██████████| 1500/1500 [00:29<00:00, 50.19it/s]54.17s/it]\n",
      "100%|██████████| 1500/1500 [00:17<00:00, 85.91it/s]\n",
      "100%|██████████| 375/375 [00:04<00:00, 81.77it/s]\n",
      "100%|██████████| 1500/1500 [00:30<00:00, 49.52it/s]53.46s/it]\n",
      "100%|██████████| 1500/1500 [00:17<00:00, 85.50it/s]\n",
      "100%|██████████| 375/375 [00:04<00:00, 88.49it/s]\n",
      "100%|██████████| 1500/1500 [00:30<00:00, 48.83it/s]53.03s/it]\n",
      "100%|██████████| 1500/1500 [00:20<00:00, 73.96it/s]\n",
      "100%|██████████| 375/375 [00:04<00:00, 79.88it/s]\n",
      "out of epochs: 100%|██████████| 10/10 [09:00<00:00, 54.08s/it]\n"
     ]
    }
   ],
   "source": [
    "criterion = nn.CrossEntropyLoss()\n",
    "optimizer = torch.optim.Adam(model50.parameters(), lr=0.001)\n",
    "num_epochs = 10\n",
    "train_accuracies = []\n",
    "train_losses = []\n",
    "val_accuracies = []\n",
    "for epoch in trange(num_epochs, desc=\"out of epochs\", leave=True):\n",
    "    train_epoch_accuracy_list = []\n",
    "    train_epoch_batch_loss = []\n",
    "    val_epoch_accuracy_list = []\n",
    "    for index, batch in enumerate(tqdm(iter(train_dl))):\n",
    "        x, y = batch\n",
    "        y = y.squeeze(1) \n",
    "        batch_loss = kannada_dennis.train_batch(x, y, model50, criterion, optimizer)\n",
    "        train_epoch_batch_loss.append(batch_loss)\n",
    "    \n",
    "        \n",
    "    for index, batch in enumerate(tqdm(iter(train_dl))):\n",
    "        x, y = batch\n",
    "        y = y.squeeze(-1)\n",
    "        temp = kannada_dennis.accuracy(x, y, model50)\n",
    "        train_epoch_accuracy_list.extend(temp)\n",
    "    \n",
    "    for index, batch in enumerate(tqdm(iter(val_dl))):\n",
    "        x, y = batch\n",
    "        y = y.squeeze(-1)\n",
    "        temp = kannada_dennis.accuracy(x, y, model50)\n",
    "        val_epoch_accuracy_list.extend(temp)\n",
    "        \n",
    "    train_accuracies.append(np.mean(train_epoch_accuracy_list))\n",
    "    train_losses.append(np.mean(train_epoch_batch_loss))\n",
    "    val_accuracies.append(np.mean(val_epoch_accuracy_list))\n",
    "    \n",
    "    \n",
    "# tqdm here .... change the mini dataset to all \n",
    "# how did he know our 0 is 0?"
   ]
  },
  {
   "cell_type": "markdown",
   "metadata": {},
   "source": [
    "#### Conclusion\n",
    "Original Resnet50 looks super strong, No free ride for me now, I need to create my own resnet network now\n",
    "\n",
    "Then I want to try ResNet101 and ResNet152\n",
    "\n",
    "Get some idea from the fastai, it's a new ResNet model in my following ipynb."
   ]
  },
  {
   "cell_type": "code",
   "execution_count": 13,
   "metadata": {},
   "outputs": [
    {
     "data": {
      "text/plain": [
       "[0.7544166666666666,\n",
       " 0.8891666666666667,\n",
       " 0.9074166666666666,\n",
       " 0.93675,\n",
       " 0.9504166666666667,\n",
       " 0.9544166666666667,\n",
       " 0.9465,\n",
       " 0.9644166666666667,\n",
       " 0.9640833333333333,\n",
       " 0.9630833333333333]"
      ]
     },
     "execution_count": 13,
     "metadata": {},
     "output_type": "execute_result"
    }
   ],
   "source": [
    "val_accuracies"
   ]
  },
  {
   "cell_type": "code",
   "execution_count": 27,
   "metadata": {},
   "outputs": [
    {
     "data": {
      "image/png": "[encoded data removed]",
      "text/plain": [
       "<Figure size 640x480 with 1 Axes>"
      ]
     },
     "metadata": {},
     "output_type": "display_data"
    }
   ],
   "source": [
    "%matplotlib inline\n",
    "x = np.linspace(1, 11, 10)\n",
    "plt.scatter(x, train_accuracies, label = \"training accuracy\")\n",
    "plt.scatter(x, val_accuracies, label = \"validation accuracy\")\n",
    "plt.legend(loc='lower right')\n",
    "plt.xlabel('Epoch')\n",
    "plt.ylabel('Accuracy')\n",
    "plt.title('Training vs Validation Accuracies')\n",
    "plt.grid()\n",
    "plt.show()"
   ]
  },
  {
   "cell_type": "markdown",
   "metadata": {},
   "source": [
    "Save my model50"
   ]
  },
  {
   "cell_type": "code",
   "execution_count": 31,
   "metadata": {},
   "outputs": [],
   "source": [
    "torch.save(model50, \"res50.pth\")\n",
    "torch.save(model50.state_dict(), \"res50param.pth\")"
   ]
  },
  {
   "cell_type": "markdown",
   "metadata": {},
   "source": [
    "visualization with torchviz"
   ]
  },
  {
   "cell_type": "code",
   "execution_count": 14,
   "metadata": {},
   "outputs": [
    {
     "data": {
      "text/plain": [
       "'ResNet50.png'"
      ]
     },
     "execution_count": 14,
     "metadata": {},
     "output_type": "execute_result"
    }
   ],
   "source": [
    "model50.eval()\n",
    "for i in model50.parameters():\n",
    "    i.requires_grad = True\n",
    "dummy_input = torch.randn(8, 1, 28, 28).to(device=device)\n",
    "y = model50(dummy_input)\n",
    "# for i,j in model.named_parameters():\n",
    "#     print(i)\n",
    "graph = make_dot(y, params=dict(model50.named_parameters()))\n",
    "graph.render('ResNet50', format='png')"
   ]
  },
  {
   "cell_type": "markdown",
   "metadata": {},
   "source": [
    "### prediction"
   ]
  },
  {
   "cell_type": "code",
   "execution_count": 35,
   "metadata": {},
   "outputs": [
    {
     "data": {
      "text/plain": [
       "157"
      ]
     },
     "execution_count": 35,
     "metadata": {},
     "output_type": "execute_result"
    }
   ],
   "source": [
    "len(test_dl)"
   ]
  },
  {
   "cell_type": "code",
   "execution_count": 42,
   "metadata": {},
   "outputs": [
    {
     "data": {
      "text/plain": [
       "pandas.core.series.Series"
      ]
     },
     "execution_count": 42,
     "metadata": {},
     "output_type": "execute_result"
    }
   ],
   "source": [
    "type(test.iloc[1])"
   ]
  },
  {
   "cell_type": "code",
   "execution_count": 49,
   "metadata": {},
   "outputs": [
    {
     "data": {
      "text/html": [
       "<div>\n",
       "<style scoped>\n",
       "    .dataframe tbody tr th:only-of-type {\n",
       "        vertical-align: middle;\n",
       "    }\n",
       "\n",
       "    .dataframe tbody tr th {\n",
       "        vertical-align: top;\n",
       "    }\n",
       "\n",
       "    .dataframe thead th {\n",
       "        text-align: right;\n",
       "    }\n",
       "</style>\n",
       "<table border=\"1\" class=\"dataframe\">\n",
       "  <thead>\n",
       "    <tr style=\"text-align: right;\">\n",
       "      <th></th>\n",
       "      <th>id</th>\n",
       "      <th>pixel0</th>\n",
       "      <th>pixel1</th>\n",
       "      <th>pixel2</th>\n",
       "      <th>pixel3</th>\n",
       "      <th>pixel4</th>\n",
       "      <th>pixel5</th>\n",
       "      <th>pixel6</th>\n",
       "      <th>pixel7</th>\n",
       "      <th>pixel8</th>\n",
       "      <th>...</th>\n",
       "      <th>pixel774</th>\n",
       "      <th>pixel775</th>\n",
       "      <th>pixel776</th>\n",
       "      <th>pixel777</th>\n",
       "      <th>pixel778</th>\n",
       "      <th>pixel779</th>\n",
       "      <th>pixel780</th>\n",
       "      <th>pixel781</th>\n",
       "      <th>pixel782</th>\n",
       "      <th>pixel783</th>\n",
       "    </tr>\n",
       "  </thead>\n",
       "  <tbody>\n",
       "    <tr>\n",
       "      <th>0</th>\n",
       "      <td>0</td>\n",
       "      <td>0</td>\n",
       "      <td>0</td>\n",
       "      <td>0</td>\n",
       "      <td>0</td>\n",
       "      <td>0</td>\n",
       "      <td>0</td>\n",
       "      <td>0</td>\n",
       "      <td>0</td>\n",
       "      <td>0</td>\n",
       "      <td>...</td>\n",
       "      <td>0</td>\n",
       "      <td>0</td>\n",
       "      <td>0</td>\n",
       "      <td>0</td>\n",
       "      <td>0</td>\n",
       "      <td>0</td>\n",
       "      <td>0</td>\n",
       "      <td>0</td>\n",
       "      <td>0</td>\n",
       "      <td>0</td>\n",
       "    </tr>\n",
       "  </tbody>\n",
       "</table>\n",
       "<p>1 rows × 785 columns</p>\n",
       "</div>"
      ],
      "text/plain": [
       "   id  pixel0  pixel1  pixel2  pixel3  pixel4  pixel5  pixel6  pixel7  pixel8  \\\n",
       "0   0       0       0       0       0       0       0       0       0       0   \n",
       "\n",
       "   ...  pixel774  pixel775  pixel776  pixel777  pixel778  pixel779  pixel780  \\\n",
       "0  ...         0         0         0         0         0         0         0   \n",
       "\n",
       "   pixel781  pixel782  pixel783  \n",
       "0         0         0         0  \n",
       "\n",
       "[1 rows x 785 columns]"
      ]
     },
     "execution_count": 49,
     "metadata": {},
     "output_type": "execute_result"
    }
   ],
   "source": [
    "test.head(1)"
   ]
  },
  {
   "cell_type": "code",
   "execution_count": 61,
   "metadata": {},
   "outputs": [],
   "source": [
    "class testdata(Dataset):\n",
    "    def __init__(self, data : pd.DataFrame) -> None:\n",
    "        super().__init__()\n",
    "        self.dataframe = data\n",
    "    \n",
    "        self.train = np.array(self.dataframe.drop([\"id\"], axis = 1))\n",
    "        self.id = np.array(self.dataframe.id)\n",
    "        \n",
    "    def __len__(self):\n",
    "        return len(self.train)\n",
    "    \n",
    "    def __getitem__(self, index):\n",
    "        return torch.Tensor(self.train[index].reshape(-1,28,28)/255).to(device=device)"
   ]
  },
  {
   "cell_type": "code",
   "execution_count": 62,
   "metadata": {},
   "outputs": [],
   "source": [
    "test_ds = testdata(test)\n",
    "test_dl = DataLoader(test_ds, batch_size=32, shuffle= False)"
   ]
  },
  {
   "cell_type": "code",
   "execution_count": 50,
   "metadata": {},
   "outputs": [],
   "source": [
    "test_dl = DataLoader(test, batch_size=32, shuffle= False)"
   ]
  },
  {
   "cell_type": "code",
   "execution_count": 70,
   "metadata": {},
   "outputs": [
    {
     "name": "stderr",
     "output_type": "stream",
     "text": [
      "100%|██████████| 157/157 [00:01<00:00, 91.73it/s] \n"
     ]
    }
   ],
   "source": [
    "model50.eval()\n",
    "pred_list = []\n",
    "with torch.no_grad():\n",
    "    for index, batch in enumerate(tqdm(test_dl)):\n",
    "        prediction = model50(batch)\n",
    "        _, index = prediction.max(-1)\n",
    "        temp = index.detach().cpu().tolist()\n",
    "        pred_list.extend(temp)"
   ]
  },
  {
   "cell_type": "markdown",
   "metadata": {},
   "source": [
    "generating the submission.csv"
   ]
  },
  {
   "cell_type": "code",
   "execution_count": 73,
   "metadata": {},
   "outputs": [],
   "source": [
    "submission = pd.DataFrame({\n",
    "    \"id\" : test.id,\n",
    "    \"label\" : np.array(pred_list)\n",
    "})\n",
    "submission.to_csv(\"res50.csv\", sep=\",\")"
   ]
  }
 ],
 "metadata": {
  "kernelspec": {
   "display_name": "torchcv",
   "language": "python",
   "name": "python3"
  },
  "language_info": {
   "codemirror_mode": {
    "name": "ipython",
    "version": 3
   },
   "file_extension": ".py",
   "mimetype": "text/x-python",
   "name": "python",
   "nbconvert_exporter": "python",
   "pygments_lexer": "ipython3",
   "version": "3.9.18"
  }
 },
 "nbformat": 4,
 "nbformat_minor": 2
}
